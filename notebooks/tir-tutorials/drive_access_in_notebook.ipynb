{
 "cells": [
  {
   "cell_type": "markdown",
   "id": "cee57626-2966-46f5-b3b4-0baaed96e1b4",
   "metadata": {},
   "source": [
    "# Access Google Drive in TIR Notebooks\n",
    "This document provides a step-by-step guide on accessing your Google Drive in TIR Notebooks. First we'll setup google OAuth2 credentials for authorization and then use Google Drive APIs to list files, search for specific files, upload and download files, and create folders in Google Drive."
   ]
  },
  {
   "cell_type": "markdown",
   "id": "e716df3b-291b-4f75-a94a-08830619e327",
   "metadata": {
    "tags": []
   },
   "source": [
    "## Pre-requisites\n",
    "1. **Google Cloud Console Account**: Make sure you have a Google account and are able to access the [Google Cloud Console](https://console.cloud.google.com).\n",
    "\n",
    "2. **Google Drive API Enabled**: Ensure the Google Drive API is enabled for your project in the Google Cloud Console. If not, enable from [here](https://console.cloud.google.com/apis/api/drive.googleapis.com/).\n"
   ]
  },
  {
   "cell_type": "markdown",
   "id": "cbca00df-dff6-464b-b798-6a6eb43adccb",
   "metadata": {},
   "source": [
    "## Setup Instructions\n",
    "### Step 1: Create OAuth2 Credentials\n",
    "To interact with Google Drive APIs securely, you'll need to create OAuth2 credentials from the Google Cloud Console. These credentials provide authorization to access files from your Google Drive.\n",
    "\n",
    "Follow these steps to set up OAuth2 credentials:\n",
    "\n",
    "1. Go to the [Google Cloud Console](https://console.cloud.google.com).\n",
    "\n",
    "2. Navigate to APIs & Services > Credentials > Create credentials > OAuth 2.0 Client IDs.\n",
    "\n",
    "3. Choose Web application as the application type.\n",
    "\n",
    "4. Set the Authorized JavaScript origins to `https://notebooks.e2enetworks.com:443`.\n",
    "\n",
    "5. Set the Authorized redirect URI to `https://gpu-notebooks.e2enetworks.com/oauth2callback/`.\n",
    "\n",
    "6. Download the JSON file containing your OAuth2 credentials.\n",
    "\n",
    "7. Upload the downloaded credentials file to this JupyterLab Notebook using the top arrow icon in the toolbar.\n",
    "\n",
    "Input the path to the uploaded credentials file in the code cell below.\n"
   ]
  },
  {
   "cell_type": "code",
   "execution_count": null,
   "id": "91715670-9853-4e5c-9b8e-07406e916e58",
   "metadata": {},
   "outputs": [],
   "source": [
    "# enter your credentials files path here\n",
    "creds_file_path = \"path/to/your/credentials_file.json\""
   ]
  },
  {
   "cell_type": "markdown",
   "id": "b5e3cfca-7bd6-4470-8457-1fb5270d1ceb",
   "metadata": {},
   "source": [
    "### Step 2: Set Up OAuth Consent Screen\n",
    "1. Navigate to APIs & Services > OAuth consent screen.\n",
    "\n",
    "2. Set the User Type to External and ensure that the Publishing status is set to In Production or you will have to re-download the token every 7 days.\n",
    "\n",
    "### Step 3: Install the required Python Libraries\n",
    "To interact with the Google Drive API, you need to install several Python libraries. Run the below command"
   ]
  },
  {
   "cell_type": "code",
   "execution_count": null,
   "id": "fdb9ab1b-35a3-4f8e-ad89-b82d482c7082",
   "metadata": {
    "tags": []
   },
   "outputs": [],
   "source": [
    "!pip3 install google-auth google-api-python-client google-auth-oauthlib"
   ]
  },
  {
   "cell_type": "markdown",
   "id": "ea91e291-b0c3-4151-9fef-fd49e4ec7d6e",
   "metadata": {},
   "source": [
    "### Step 4: Configure and Authenticate the Google Drive API Client\n",
    "Before accessing files from Google Drive, you need to set up and authenticate the Google Drive API client in this Notebook.\n",
    "\n",
    "Execute the following code to set up the Google Drive API client.\n",
    "- Follow the authorization URL displayed in the output and select your Google Account.\n",
    "- Upon successful authorization, you will get a code. Copy the authorization code and enter it in the box that requests for the authorization code to complete the authentication process."
   ]
  },
  {
   "cell_type": "code",
   "execution_count": null,
   "id": "d7c0a825-f271-48e1-b0f9-1d3151fb0a08",
   "metadata": {
    "tags": []
   },
   "outputs": [],
   "source": [
    "import io\n",
    "import os\n",
    "from googleapiclient.discovery import build\n",
    "from google.oauth2.credentials import Credentials\n",
    "from googleapiclient.http import MediaFileUpload, MediaIoBaseDownload\n",
    "from google_auth_oauthlib.flow import InstalledAppFlow\n",
    "\n",
    "# Define the scopes\n",
    "SCOPES = ['https://www.googleapis.com/auth/drive']\n",
    "\n",
    "# Load existing credentials if available\n",
    "creds = None\n",
    "if os.path.exists(\"token.json\"):\n",
    "    creds = Credentials.from_authorized_user_file(\"token.json\", SCOPES)\n",
    "\n",
    "# If credentials are missing or expired, initiate OAuth flow\n",
    "if not creds or not creds.valid:\n",
    "    flow = InstalledAppFlow.from_client_secrets_file(\n",
    "        creds_file_path,\n",
    "        SCOPES,\n",
    "        redirect_uri='https://gpu-notebooks.e2enetworks.com/oauth2callback/'\n",
    "    )\n",
    "    authorization_url, _ = flow.authorization_url(prompt='consent')\n",
    "    print(f'Please go to this URL: {authorization_url}')\n",
    "    \n",
    "    authorization_code = input('Enter the authorization code: ')\n",
    "    flow.fetch_token(code=authorization_code)\n",
    "    creds = flow.credentials\n",
    "    \n",
    "    # Save the updated credentials for future use\n",
    "    with open(\"token.json\", \"w\") as token:\n",
    "        token.write(creds.to_json())\n",
    "\n",
    "# Build the Drive API service\n",
    "drive_service = build('drive', 'v3', credentials=creds)\n"
   ]
  },
  {
   "cell_type": "markdown",
   "id": "ebcf0910-9426-4951-a440-ecac19c22676",
   "metadata": {
    "tags": []
   },
   "source": [
    "## Performing Actions with Google Drive API\n",
    "### Searching for a Specific File/Folder\n",
    "To search for a file/folder by name, use the following query:\n",
    "> **Note:** To list all files and folders, use an empty query (`\"\"`) when searching for files."
   ]
  },
  {
   "cell_type": "code",
   "execution_count": null,
   "id": "7c7b493c-3cec-49d9-b186-bee852ad0b68",
   "metadata": {
    "tags": []
   },
   "outputs": [],
   "source": [
    "# Define your query\n",
    "query = \"name = 'example.txt'\" # Change 'example.txt' to your file name or empty string(\"\") to list all files\n",
    "\n",
    "results = (drive_service.files().list(q=query, fields=\"files(id, name, mimeType)\").execute())\n",
    "items = results.get(\"files\", [])\n",
    "\n",
    "if not items:\n",
    "    print('No files found.')\n",
    "else:\n",
    "    print('Files:')\n",
    "    for item in items:\n",
    "        print(f\"{item['name']} ({item['id']}) - {item['mimeType']}\")"
   ]
  },
  {
   "cell_type": "markdown",
   "id": "47788fe3-05a5-4012-aa9d-12f834fa91cf",
   "metadata": {},
   "source": [
    "### List Files in specific Folder\n",
    "To list all files within a specific folder, first obtain the folder ID by executing the code above. Then, use that folder ID in the code below to list all files in that folder."
   ]
  },
  {
   "cell_type": "code",
   "execution_count": null,
   "id": "4b7778ff-fe78-4f26-8719-c8612f3a653f",
   "metadata": {},
   "outputs": [],
   "source": [
    "# Define the folder ID where you want to list files\n",
    "folder_id = 'your_folder_id_here'\n",
    "\n",
    "# Define your query with the folder ID\n",
    "query = f\"'{folder_id}' in parents\"\n",
    "\n",
    "results = drive_service.files().list(q=query, fields=\"files(id, name, mimeType)\").execute()\n",
    "items = results.get(\"files\", [])\n",
    "\n",
    "if not items:\n",
    "    print('No files found in the folder.')\n",
    "else:\n",
    "    print('Files in the folder:')\n",
    "    for item in items:\n",
    "        print(f\"{item['name']} ({item['id']}) - {item['mimeType']}\")"
   ]
  },
  {
   "cell_type": "markdown",
   "id": "2ef7bb68-cb07-4a39-8ba8-3e59b2a97fa4",
   "metadata": {},
   "source": [
    "### Downloading Files from Google Drive\n",
    "To download a file, use the following code:"
   ]
  },
  {
   "cell_type": "code",
   "execution_count": null,
   "id": "504bd87f-0933-4744-8313-f655829bf267",
   "metadata": {
    "tags": []
   },
   "outputs": [],
   "source": [
    "file_id = 'file_id_to_download'\n",
    "file_path = 'path/to/save/downloaded/file.txt'\n",
    "\n",
    "request = drive_service.files().get_media(fileId=file_id)\n",
    "fh = io.FileIO(file_path, mode='wb')\n",
    "downloader = MediaIoBaseDownload(fh, request)\n",
    "done = False\n",
    "\n",
    "while not done:\n",
    "    status, done = downloader.next_chunk()"
   ]
  },
  {
   "cell_type": "markdown",
   "id": "668b2ace-3013-432d-bb54-1c1f36673099",
   "metadata": {},
   "source": [
    "### Uploading Files to Google Drive\n",
    "To upload a file to a specific folder in Google Drive, use the following code:"
   ]
  },
  {
   "cell_type": "code",
   "execution_count": null,
   "id": "71132f12-ecb3-4156-9034-cd3e63a8e3cd",
   "metadata": {
    "tags": []
   },
   "outputs": [],
   "source": [
    "file_metadata = {\n",
    "    'name': 'MyFile.txt',    \n",
    "    'parents': '<folder_id>'  # ID of the folder where you want to upload\n",
    "}\n",
    "file_path = 'path/to/your/local/file.txt'\n",
    "\n",
    "media = MediaFileUpload(file_path, mimetype='text/plain')\n",
    "\n",
    "file = drive_service.files().create(body=file_metadata, media_body=media, fields='id').execute()"
   ]
  },
  {
   "cell_type": "markdown",
   "id": "57bea735-8f1f-412e-a907-46e8b3eace1e",
   "metadata": {},
   "source": [
    "### Creating a Folder in Google Drive\n",
    "To create a new folder, use the following code:"
   ]
  },
  {
   "cell_type": "code",
   "execution_count": null,
   "id": "85e65d1b-6be1-4a9f-9865-0d0562da0b0e",
   "metadata": {
    "tags": []
   },
   "outputs": [],
   "source": [
    "folder_metadata = {\n",
    "    'name': 'MyFolder',  \n",
    "    'parents': '<parent_folder_id>'  # ID of the parent folder (optional)\n",
    "}\n",
    "\n",
    "folder = drive_service.files().create(body=folder_metadata, fields='id').execute()"
   ]
  },
  {
   "cell_type": "markdown",
   "id": "43d93f8c-88d9-46a9-8a6f-abd543a467a9",
   "metadata": {},
   "source": [
    "## Troubleshooting and Best Practices\n",
    "1. **OAuth2 Flow Issues**: Ensure the redirect URI is correctly set up in the Google Cloud Console.\n",
    "\n",
    "2. **Token Expiration**: If your publishing status is not set to 'In Production', your token will expire in 7 days, requiring you to re-authenticate and recreate the credentials.\n",
    "## References\n",
    "* [Google Drive API Documentation](https://developers.google.com/drive/api/guides/about-sdk)\n",
    "\n",
    "* [Google Cloud Console](https://cloud.google.com/docs)\n",
    "\n",
    "* [Python Google API Client Library](https://googleapis.github.io/google-api-python-client/docs/)\n"
   ]
  }
 ],
 "metadata": {
  "kernelspec": {
   "display_name": "Python 3 (ipykernel)",
   "language": "python",
   "name": "python3"
  },
  "language_info": {
   "codemirror_mode": {
    "name": "ipython",
    "version": 3
   },
   "file_extension": ".py",
   "mimetype": "text/x-python",
   "name": "python",
   "nbconvert_exporter": "python",
   "pygments_lexer": "ipython3",
   "version": "3.10.12"
  }
 },
 "nbformat": 4,
 "nbformat_minor": 5
}
